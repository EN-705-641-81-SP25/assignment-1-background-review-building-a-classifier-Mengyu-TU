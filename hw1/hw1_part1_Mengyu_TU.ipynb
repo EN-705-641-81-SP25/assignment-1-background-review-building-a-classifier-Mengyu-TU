{
  "nbformat": 4,
  "nbformat_minor": 0,
  "metadata": {
    "colab": {
      "provenance": [],
      "toc_visible": true
    },
    "kernelspec": {
      "name": "python3",
      "display_name": "Python 3"
    },
    "language_info": {
      "name": "python"
    }
  },
  "cells": [
    {
      "cell_type": "markdown",
      "source": [
        "# Basic operations\n",
        "1. 14\n",
        "2. 0\n",
        "3. $\\begin{pmatrix} 6 \\\\ 10 \\\\ 14 \\end{pmatrix}$\n",
        "4. 5\n",
        "5. $ \\begin{pmatrix} 0 & 1 & 2 \\end{pmatrix}$\n",
        "6. $\\begin{pmatrix} 6 \\\\ 5 \\\\ 7 \\end{pmatrix}$\n",
        "7. 19\n"
      ],
      "metadata": {
        "id": "WBtmwyXpgHB6"
      }
    },
    {
      "cell_type": "markdown",
      "source": [
        "\n",
        "# Matrix algebra rules\n",
        "1. True\n",
        "2. True\n",
        "3. True\n",
        "4. False\n",
        "5. False\n",
        "6. True\n",
        "7. False. $(AB)^T = B^T A^T$\n",
        "8. True\n",
        "9. True."
      ],
      "metadata": {
        "id": "CnxDJFxFkA0Z"
      }
    },
    {
      "cell_type": "markdown",
      "source": [
        "# Matrix operations\n",
        "1. Not invertible.\n",
        "2. Matrix is diagonalizable. $\\begin{bmatrix}\n",
        "0 & 0 & 0 \\\\\n",
        "0 & 1 & 0 \\\\\n",
        "0 & 0 & 3\n",
        "\\end{bmatrix}$"
      ],
      "metadata": {
        "id": "JUjBn8uJmHM7"
      }
    },
    {
      "cell_type": "markdown",
      "source": [
        "# Basic probability\n",
        "1. $ 5\n",
        "2. P(B) = 0.55\n",
        "3. P(B) = 0.917"
      ],
      "metadata": {
        "id": "LmvObFcZyb2Z"
      }
    },
    {
      "cell_type": "markdown",
      "source": [
        "# Expectation and variance\n",
        "1. 1.8\n",
        "2. 1.08\n",
        "3. 0.279\n",
        "4.  When adding n independent variables (X₁ + ... + Xₙ), their variances add due to independence, resulting in nσ². However, X + X = 2X represents multiplying a single random variable by 2, where the variance is multiplied by the square of the constant (2²), giving 4σ².\n",
        "\n",
        "\n"
      ],
      "metadata": {
        "id": "Iqi1z_mA0b0G"
      }
    },
    {
      "cell_type": "markdown",
      "source": [
        "# One-Variable derivates\n",
        "1. 6x - 2\n",
        "2. (1-x) - x\n",
        "3. 1/(1+exp(-x))"
      ],
      "metadata": {
        "id": "mf6XbXiwT7U9"
      }
    },
    {
      "cell_type": "markdown",
      "source": [
        "# Multi-variable derivative\n",
        "1.  $\\left[2x_1, \\exp(x_2)\\right]$\n",
        "\n",
        "2. $\\begin{bmatrix} \\exp(x_1+x_2x_3) \\\\ x_3\\exp(x_1+x_2x_3) \\\\ x_2\\exp(x_1+x_2x_3) \\end{bmatrix}$\n",
        "\n",
        "3. $\\begin{bmatrix} a_1 \\\\ a_2 \\end{bmatrix}$\n",
        "\n",
        "4. $ \\begin{bmatrix} 4x_1 - 2x_2 \\\\ -2x_1 + 2x_2 \\end{bmatrix} $\n",
        "\n",
        "5. $ \\begin{bmatrix} x_1 \\\\ x_2 \\\\ \\vdots \\\\ x_d \\end{bmatrix} $\n"
      ],
      "metadata": {
        "id": "UwC6Oe4vZM4W"
      }
    },
    {
      "cell_type": "markdown",
      "source": [
        "# Algorithms and data structures\n",
        "1. O(n log n). The list is divided into a maximum of log n parts. Merging all sublists into a single list takes O(n) time.\n",
        "\n",
        "2. O(n) using QuickSelect algorithm.\n",
        "\n",
        "3. O(log(n)) using Binary Search\n",
        "\n",
        "4. O(1)\n",
        "\n",
        "5. O(n x d)\n",
        "\n",
        "6. O(d²)\n",
        "\n",
        "7. O(mnd)"
      ],
      "metadata": {
        "id": "R2oV9yV6fWT1"
      }
    }
  ]
}